{
  "nbformat": 4,
  "nbformat_minor": 0,
  "metadata": {
    "colab": {
      "name": "ptb_bidirectional_lstm.ipynb",
      "provenance": [],
      "collapsed_sections": [],
      "toc_visible": true,
      "authorship_tag": "ABX9TyNKjj9sS+fjcEH1XdLAOd4+",
      "include_colab_link": true
    },
    "kernelspec": {
      "name": "python3",
      "display_name": "Python 3"
    }
  },
  "cells": [
    {
      "cell_type": "markdown",
      "metadata": {
        "id": "view-in-github",
        "colab_type": "text"
      },
      "source": [
        "<a href=\"https://colab.research.google.com/github/AsyKhimki/Hello-GIT/blob/master/ptb_bidirectional_lstm.ipynb\" target=\"_parent\"><img src=\"https://colab.research.google.com/assets/colab-badge.svg\" alt=\"Open In Colab\"/></a>"
      ]
    },
    {
      "cell_type": "markdown",
      "metadata": {
        "id": "oUJP6DaOdKTl",
        "colab_type": "text"
      },
      "source": [
        "# Bidirectional RNN for PTB dataset with LSTM unit\n",
        "\n",
        "This notebook contains some RNN / LSTM networks for PTB dataset\n",
        "\n",
        "**TODO**:\n",
        "1. compare LSTM with GRU\n",
        "2. create framework for hyperparameter tuning\n",
        "3. add ROC curve ? \n",
        "4. use tensorboard with colab: https://medium.com/@kuanhoong/how-to-use-tensorboard-with-google-colab-43f7cf061fe4\n",
        "\n",
        "**Long term**\n",
        "1. How to freeze weights ? (i.e. do transfer learning)\n",
        "\n",
        "**Userful links**\n",
        "1. Hyperparameter tuning frameworks https://medium.com/@mikkokotila/a-comprehensive-list-of-hyperparameter-optimization-tuning-solutions-88e067f19d9\n",
        "\n",
        "\n",
        "**Define models in separate .py files**\n",
        "**NB:** Flag - use pre-trained\n",
        "Resnet - similiar to baseline\n",
        "\n",
        "Put Binaries -> \n",
        "Hyperparameter search\n",
        "Ensemble Notebook\n",
        "**Q** difference between notebook report and final report?\n",
        "\n",
        "Rules:\n",
        "Time complexity\n",
        "You do not want bottleneck\n",
        "Saptial dimension reduction \n",
        "Increase fil\n",
        "Rule of thumbs cnn\n",
        "\n",
        "Summarize\n",
        "1. Edit LSTM notebooks\n",
        "2. Transfer learning\n",
        "3. Generate environment\n",
        "\n",
        "**Q**: Have they already done data preprocessing from the paper?"
      ]
    },
    {
      "cell_type": "code",
      "metadata": {
        "id": "ntiDfYWblwZt",
        "colab_type": "code",
        "colab": {}
      },
      "source": [
        "import pandas as pd\n",
        "import numpy as np\n",
        "\n",
        "from keras import Sequential, Model\n",
        "from keras import optimizers, losses, activations, models\n",
        "from keras.callbacks import ModelCheckpoint, EarlyStopping, LearningRateScheduler, ReduceLROnPlateau\n",
        "from keras.layers import Dense, Input, Dropout, Flatten, Lambda\n",
        "\n",
        "\n",
        "from keras.layers import Conv1D, Convolution1D, Convolution2D, MaxPool1D, MaxPooling2D, GlobalMaxPool1D, AveragePooling1D, GlobalAveragePooling1D\n",
        "from keras.layers import concatenate, Bidirectional, LSTM, GRU\n",
        "\n",
        "\n",
        "from sklearn.metrics import f1_score, accuracy_score\n",
        "from sklearn.model_selection import train_test_split\n"
      ],
      "execution_count": 0,
      "outputs": []
    },
    {
      "cell_type": "markdown",
      "metadata": {
        "id": "BE1hYaa3mKTw",
        "colab_type": "text"
      },
      "source": [
        "Load the data (can I do it from my local computer?)"
      ]
    },
    {
      "cell_type": "code",
      "metadata": {
        "id": "AP0OshBUlwjt",
        "colab_type": "code",
        "outputId": "eaa4cd74-4bc7-4b5a-b776-d76bbfb11192",
        "colab": {
          "base_uri": "https://localhost:8080/",
          "height": 139
        }
      },
      "source": [
        "# run if data on google drive in folder ETH_ML4H/heartbeat\n",
        "# TODO: change folder name\n",
        "from google.colab import drive\n",
        "drive.mount('/content/gdrive')\n",
        "%cd /content/gdrive/My Drive/ETH_ML4H/input"
      ],
      "execution_count": 3,
      "outputs": [
        {
          "output_type": "stream",
          "text": [
            "Go to this URL in a browser: https://accounts.google.com/o/oauth2/auth?client_id=947318989803-6bn6qk8qdgf4n4g3pfee6491hc0brc4i.apps.googleusercontent.com&redirect_uri=urn%3aietf%3awg%3aoauth%3a2.0%3aoob&response_type=code&scope=email%20https%3a%2f%2fwww.googleapis.com%2fauth%2fdocs.test%20https%3a%2f%2fwww.googleapis.com%2fauth%2fdrive%20https%3a%2f%2fwww.googleapis.com%2fauth%2fdrive.photos.readonly%20https%3a%2f%2fwww.googleapis.com%2fauth%2fpeopleapi.readonly\n",
            "\n",
            "Enter your authorization code:\n",
            "··········\n",
            "Mounted at /content/gdrive\n",
            "/content/gdrive/My Drive/ETH_ML4H/input\n"
          ],
          "name": "stdout"
        }
      ]
    },
    {
      "cell_type": "markdown",
      "metadata": {
        "id": "ncMBRDz1oUDE",
        "colab_type": "text"
      },
      "source": [
        "### Prepare data for training / testing"
      ]
    },
    {
      "cell_type": "code",
      "metadata": {
        "id": "lU6jc__Rlws_",
        "colab_type": "code",
        "outputId": "204b89e4-53af-4c01-b901-46c13668b6ac",
        "colab": {
          "base_uri": "https://localhost:8080/",
          "height": 34
        }
      },
      "source": [
        "df_1 = pd.read_csv(\"ptbdb_normal.csv\", header=None)\n",
        "df_2 = pd.read_csv(\"ptbdb_abnormal.csv\", header=None)\n",
        "df = pd.concat([df_1, df_2])\n",
        "\n",
        "df_train, df_test = train_test_split(df, test_size=0.2, random_state=1337, stratify=df[187])\n",
        "\n",
        "\n",
        "Y = np.array(df_train[187].values).astype(np.int8)\n",
        "X = np.array(df_train[list(range(187))].values)[..., np.newaxis]\n",
        "\n",
        "Y_test = np.array(df_test[187].values).astype(np.int8)\n",
        "X_test = np.array(df_test[list(range(187))].values)[..., np.newaxis]\n",
        "\n",
        "\n",
        "#print(\"\") # \n",
        "X.shape[1]"
      ],
      "execution_count": 4,
      "outputs": [
        {
          "output_type": "execute_result",
          "data": {
            "text/plain": [
              "187"
            ]
          },
          "metadata": {
            "tags": []
          },
          "execution_count": 4
        }
      ]
    },
    {
      "cell_type": "code",
      "metadata": {
        "id": "YqO_rkkZBZ-f",
        "colab_type": "code",
        "colab": {}
      },
      "source": [
        "#X.shape[0]"
      ],
      "execution_count": 0,
      "outputs": []
    },
    {
      "cell_type": "markdown",
      "metadata": {
        "id": "ojgRYvRh2A1O",
        "colab_type": "text"
      },
      "source": [
        "Normalize data\n",
        "\n",
        "**Q**  what other preprocessing techniques are used for ECG data preprocessing?\n",
        "\n",
        "from *Mostayed, Ahmed, et al. \"Classification of 12-lead ECG signals with Bi-directional LSTM network.\"*:\n",
        "\n",
        "1. QRS detection of ECG signal\n",
        "2. We used a Butterworth high-pass filter with cut-off frequency 1 Hz to remove the baseline wander. \n",
        "3. High frequency noise was removed using wavelet transform-based shrinkage methods [16]."
      ]
    },
    {
      "cell_type": "code",
      "metadata": {
        "id": "OUnaZBT12AAG",
        "colab_type": "code",
        "colab": {}
      },
      "source": [
        "# normalize without taking the zero-padding at the end into account:\n",
        "timepoints_per_sample = X.shape[1]\n",
        "\n",
        "for sample_idx in range(X.shape[0]):\n",
        "    first_zero_sample = timepoints_per_sample\n",
        "    while X[sample_idx, first_zero_sample - 1, 0] == 0:\n",
        "        first_zero_sample -= 1\n",
        "    X[sample_idx, 0: first_zero_sample, 0] -= np.mean(X[sample_idx, 0: first_zero_sample, 0])\n",
        "    X[sample_idx, 0: first_zero_sample, 0] /= np.std(X[sample_idx, 0: first_zero_sample, 0])\n",
        "\n",
        "\n",
        "for sample_idx in range(X_test.shape[0]):\n",
        "    first_zero_sample = timepoints_per_sample\n",
        "    while X_test[sample_idx, first_zero_sample - 1, 0] == 0:\n",
        "        first_zero_sample -= 1\n",
        "    X_test[sample_idx, 0: first_zero_sample, 0] -= np.mean(X_test[sample_idx, 0: first_zero_sample, 0])\n",
        "    X_test[sample_idx, 0: first_zero_sample, 0] /= np.std(X_test[sample_idx, 0: first_zero_sample, 0])"
      ],
      "execution_count": 0,
      "outputs": []
    },
    {
      "cell_type": "markdown",
      "metadata": {
        "id": "JW_AmS__oh-O",
        "colab_type": "text"
      },
      "source": [
        "### **Wavelet transform**\n",
        "Try to use continuous wavelet transform for the input"
      ]
    },
    {
      "cell_type": "code",
      "metadata": {
        "id": "TsQPfdBJohM7",
        "colab_type": "code",
        "colab": {}
      },
      "source": [
        "#!setup.py install pywt\n",
        "import pywt"
      ],
      "execution_count": 0,
      "outputs": []
    },
    {
      "cell_type": "code",
      "metadata": {
        "id": "rj1Sb_u9vc4m",
        "colab_type": "code",
        "colab": {
          "base_uri": "https://localhost:8080/",
          "height": 34
        },
        "outputId": "3f93a51d-f1e4-4d88-da70-ab10d78584de"
      },
      "source": [
        "# coef.shape\n",
        "# X.shape"
      ],
      "execution_count": 27,
      "outputs": [
        {
          "output_type": "execute_result",
          "data": {
            "text/plain": [
              "(11641, 187, 1)"
            ]
          },
          "metadata": {
            "tags": []
          },
          "execution_count": 27
        }
      ]
    },
    {
      "cell_type": "code",
      "metadata": {
        "id": "UktktqR4TBAU",
        "colab_type": "code",
        "colab": {}
      },
      "source": [
        "#TODO: how do I select scales?\n",
        "#Source: http://ataspinar.com/2018/12/21/a-guide-for-using-the-wavelet-transform-in-machine-learning/\n",
        "\n",
        "wavelet_temp = 'morl'\n",
        "max_scale_temp = 15\n",
        "scales_temp = np.arange(1,max_scale_temp)\n",
        "\n",
        "ctw_X, _ = pywt.cwt(X, scales=scales_temp, wavelet=wavelet_temp)\n",
        "ctw_X_test, _ =  pywt.cwt(X_test, scales=scales_temp, wavelet=wavelet_temp)"
      ],
      "execution_count": 0,
      "outputs": []
    },
    {
      "cell_type": "code",
      "metadata": {
        "id": "cMf6cj-Swz8g",
        "colab_type": "code",
        "colab": {
          "base_uri": "https://localhost:8080/",
          "height": 34
        },
        "outputId": "1651421f-d55a-4da9-e52e-b367123fcfdb"
      },
      "source": [
        "#ctw_X.shape\n",
        "# need to reshape it:\n",
        "train_size = X.shape[0]\n",
        "ctw_X_fin = np.ndarray(shape=(train_size, max_scale_temp-1, X.shape[1], 1))\n",
        "\n",
        "for ii in range(0,train_size):\n",
        "      coeff_ = ctw_X[:, ii,: , 0]\n",
        "      ctw_X_fin[ii, :, :, 0] = coeff_\n",
        "\n",
        "ctw_X_fin.shape\n",
        "#X.shape"
      ],
      "execution_count": 9,
      "outputs": [
        {
          "output_type": "execute_result",
          "data": {
            "text/plain": [
              "(11641, 14, 187, 1)"
            ]
          },
          "metadata": {
            "tags": []
          },
          "execution_count": 9
        }
      ]
    },
    {
      "cell_type": "markdown",
      "metadata": {
        "id": "GAIDQnbfsbUQ",
        "colab_type": "text"
      },
      "source": [
        "Try a simple model with wavelets:"
      ]
    },
    {
      "cell_type": "code",
      "metadata": {
        "id": "oaiJYFJpseUm",
        "colab_type": "code",
        "colab": {}
      },
      "source": [
        "def get_model_wavel():\n",
        "    \"\"\"\n",
        "\n",
        "    @note:\n",
        "        1. how do we select the number of lstm units and \n",
        "    \"\"\"\n",
        "    model = Sequential()\n",
        "    model.add(Convolution2D(32, kernel_size=(2, 2), strides=(1, 1),\n",
        "                    activation='relu',\n",
        "                    input_shape=(max_scale_temp-1, 187,1) \n",
        "                    ))\n",
        "    model.add(Dropout(0.5))\n",
        "    model.add(MaxPooling2D(pool_size=(2, 2), strides=(2, 2)))\n",
        "    model.add(Convolution2D(32, (2, 2), activation='relu'))\n",
        "    model.add(Dropout(0.5))\n",
        "    model.add(MaxPooling2D(pool_size=(2, 2)))\n",
        "    model.add(Flatten())\n",
        "    model.add(Dense(64, activation='relu'))\n",
        "    model.add(Dense(1, activation='softmax'))\n",
        "\n",
        "    opt = optimizers.Adam(0.001)  # did changing the lr help ? \n",
        "\n",
        "    model.compile(optimizer=opt, loss=losses.binary_crossentropy, metrics=['acc'])\n",
        "    model.summary()\n",
        "    return model"
      ],
      "execution_count": 0,
      "outputs": []
    },
    {
      "cell_type": "code",
      "metadata": {
        "id": "Tt7_yaeAsvA5",
        "colab_type": "code",
        "colab": {
          "base_uri": "https://localhost:8080/",
          "height": 952
        },
        "outputId": "1565128b-acc3-4a66-b098-50a1e5902d4b"
      },
      "source": [
        "model_wavel = get_model_wavel( ) # m_timepoints_per_sample=187, internal_dim=20\n",
        "\n",
        "file_path = \"bidirect_wavel_ptbdb.h5\"\n",
        "\n",
        "checkpoint = ModelCheckpoint(file_path, monitor='val_acc', verbose=1, save_best_only=True, mode='max')\n",
        "early = EarlyStopping(monitor=\"val_acc\", mode=\"max\", patience=5, verbose=1)\n",
        "redonplat = ReduceLROnPlateau(monitor=\"val_acc\", mode=\"max\", patience=3, verbose=2)\n",
        "callbacks_list = [checkpoint, early, redonplat]  # early\n",
        "\n",
        "\n",
        "model_wavel.fit(ctw_X_fin, Y, epochs=50,  batch_size = 400, verbose=2, callbacks=callbacks_list, validation_split=0.1)"
      ],
      "execution_count": 13,
      "outputs": [
        {
          "output_type": "stream",
          "text": [
            "Model: \"sequential_2\"\n",
            "_________________________________________________________________\n",
            "Layer (type)                 Output Shape              Param #   \n",
            "=================================================================\n",
            "conv2d_3 (Conv2D)            (None, 13, 186, 32)       160       \n",
            "_________________________________________________________________\n",
            "dropout_3 (Dropout)          (None, 13, 186, 32)       0         \n",
            "_________________________________________________________________\n",
            "max_pooling2d_3 (MaxPooling2 (None, 6, 93, 32)         0         \n",
            "_________________________________________________________________\n",
            "conv2d_4 (Conv2D)            (None, 5, 92, 32)         4128      \n",
            "_________________________________________________________________\n",
            "dropout_4 (Dropout)          (None, 5, 92, 32)         0         \n",
            "_________________________________________________________________\n",
            "max_pooling2d_4 (MaxPooling2 (None, 2, 46, 32)         0         \n",
            "_________________________________________________________________\n",
            "flatten_2 (Flatten)          (None, 2944)              0         \n",
            "_________________________________________________________________\n",
            "dense_3 (Dense)              (None, 64)                188480    \n",
            "_________________________________________________________________\n",
            "dense_4 (Dense)              (None, 1)                 65        \n",
            "=================================================================\n",
            "Total params: 192,833\n",
            "Trainable params: 192,833\n",
            "Non-trainable params: 0\n",
            "_________________________________________________________________\n",
            "Train on 10476 samples, validate on 1165 samples\n",
            "Epoch 1/50\n",
            " - 26s - loss: 4.3934 - acc: 0.7244 - val_loss: 4.7896 - val_acc: 0.6996\n",
            "\n",
            "Epoch 00001: val_acc improved from -inf to 0.69957, saving model to bidirect_wavel_ptbdb.h5\n",
            "Epoch 2/50\n",
            " - 25s - loss: 4.3934 - acc: 0.7244 - val_loss: 4.7896 - val_acc: 0.6996\n",
            "\n",
            "Epoch 00002: val_acc did not improve from 0.69957\n",
            "Epoch 3/50\n",
            " - 25s - loss: 4.3934 - acc: 0.7244 - val_loss: 4.7896 - val_acc: 0.6996\n",
            "\n",
            "Epoch 00003: val_acc did not improve from 0.69957\n",
            "Epoch 4/50\n",
            " - 25s - loss: 4.3934 - acc: 0.7244 - val_loss: 4.7896 - val_acc: 0.6996\n",
            "\n",
            "Epoch 00004: val_acc did not improve from 0.69957\n",
            "\n",
            "Epoch 00004: ReduceLROnPlateau reducing learning rate to 0.00010000000474974513.\n",
            "Epoch 5/50\n",
            " - 25s - loss: 4.3934 - acc: 0.7244 - val_loss: 4.7896 - val_acc: 0.6996\n",
            "\n",
            "Epoch 00005: val_acc did not improve from 0.69957\n",
            "Epoch 6/50\n",
            " - 25s - loss: 4.3934 - acc: 0.7244 - val_loss: 4.7896 - val_acc: 0.6996\n",
            "\n",
            "Epoch 00006: val_acc did not improve from 0.69957\n",
            "Epoch 00006: early stopping\n"
          ],
          "name": "stdout"
        },
        {
          "output_type": "execute_result",
          "data": {
            "text/plain": [
              "<keras.callbacks.History at 0x7f37c8273b38>"
            ]
          },
          "metadata": {
            "tags": []
          },
          "execution_count": 13
        }
      ]
    },
    {
      "cell_type": "code",
      "metadata": {
        "id": "7pQ19A8er4AY",
        "colab_type": "code",
        "colab": {
          "base_uri": "https://localhost:8080/",
          "height": 34
        },
        "outputId": "61a232e4-42e7-446c-f847-2eaaed90d5e6"
      },
      "source": [
        "coef.shape"
      ],
      "execution_count": 20,
      "outputs": [
        {
          "output_type": "execute_result",
          "data": {
            "text/plain": [
              "(7, 2911, 187, 1)"
            ]
          },
          "metadata": {
            "tags": []
          },
          "execution_count": 20
        }
      ]
    },
    {
      "cell_type": "markdown",
      "metadata": {
        "id": "tSZSMJtods8I",
        "colab_type": "text"
      },
      "source": [
        "# **RNN models**"
      ]
    },
    {
      "cell_type": "markdown",
      "metadata": {
        "id": "JnHGW7R7p7KU",
        "colab_type": "text"
      },
      "source": [
        "Define a toy bidirectional lstm model\n",
        "\n",
        "**TODO:** study all layers / loss functions / optimization\n",
        "\n",
        "**Questions**\n",
        "1. How to add a skip connection ?"
      ]
    },
    {
      "cell_type": "code",
      "metadata": {
        "id": "zjMHT53v3VYm",
        "colab_type": "code",
        "colab": {}
      },
      "source": [
        "def get_model_lstm():\n",
        "    \"\"\"\n",
        "\n",
        "    @note:\n",
        "        1. how do we select the number of lstm units and \n",
        "    \"\"\"\n",
        "    model = Sequential([\n",
        "      Bidirectional(LSTM(64), input_shape=(187,1)),\n",
        "      Dropout(0.5, name='dropout'),\n",
        "      Dense(32, activation=\"relu\"),\n",
        "      Dense(1, activation=\"sigmoid\")\n",
        "    ])\n",
        "\n",
        "    opt = optimizers.Adam(0.001)  # did changing the lr help ? \n",
        "\n",
        "    model.compile(optimizer=opt, loss=losses.binary_crossentropy, metrics=['acc'])\n",
        "    model.summary()\n",
        "    return model"
      ],
      "execution_count": 0,
      "outputs": []
    },
    {
      "cell_type": "markdown",
      "metadata": {
        "id": "azUB6T97v9tA",
        "colab_type": "text"
      },
      "source": [
        "Train the model"
      ]
    },
    {
      "cell_type": "code",
      "metadata": {
        "id": "m1Wt7t8F1Dzw",
        "colab_type": "code",
        "outputId": "aa5e2cd3-bb76-4cc0-c969-ec4c530d564c",
        "colab": {
          "base_uri": "https://localhost:8080/",
          "height": 649
        }
      },
      "source": [
        "#model = get_model( m_timepoints_per_sample=187 )"
      ],
      "execution_count": 0,
      "outputs": [
        {
          "output_type": "stream",
          "text": [
            "WARNING:tensorflow:From /usr/local/lib/python3.6/dist-packages/keras/backend/tensorflow_backend.py:66: The name tf.get_default_graph is deprecated. Please use tf.compat.v1.get_default_graph instead.\n",
            "\n",
            "WARNING:tensorflow:From /usr/local/lib/python3.6/dist-packages/keras/backend/tensorflow_backend.py:541: The name tf.placeholder is deprecated. Please use tf.compat.v1.placeholder instead.\n",
            "\n",
            "WARNING:tensorflow:From /usr/local/lib/python3.6/dist-packages/keras/backend/tensorflow_backend.py:4432: The name tf.random_uniform is deprecated. Please use tf.random.uniform instead.\n",
            "\n",
            "WARNING:tensorflow:From /usr/local/lib/python3.6/dist-packages/keras/backend/tensorflow_backend.py:148: The name tf.placeholder_with_default is deprecated. Please use tf.compat.v1.placeholder_with_default instead.\n",
            "\n",
            "WARNING:tensorflow:From /usr/local/lib/python3.6/dist-packages/keras/backend/tensorflow_backend.py:3733: calling dropout (from tensorflow.python.ops.nn_ops) with keep_prob is deprecated and will be removed in a future version.\n",
            "Instructions for updating:\n",
            "Please use `rate` instead of `keep_prob`. Rate should be set to `rate = 1 - keep_prob`.\n",
            "WARNING:tensorflow:From /usr/local/lib/python3.6/dist-packages/keras/optimizers.py:793: The name tf.train.Optimizer is deprecated. Please use tf.compat.v1.train.Optimizer instead.\n",
            "\n",
            "WARNING:tensorflow:From /usr/local/lib/python3.6/dist-packages/keras/backend/tensorflow_backend.py:3657: The name tf.log is deprecated. Please use tf.math.log instead.\n",
            "\n",
            "WARNING:tensorflow:From /usr/local/lib/python3.6/dist-packages/tensorflow_core/python/ops/nn_impl.py:183: where (from tensorflow.python.ops.array_ops) is deprecated and will be removed in a future version.\n",
            "Instructions for updating:\n",
            "Use tf.where in 2.0, which has the same broadcast rule as np.where\n",
            "Model: \"sequential_1\"\n",
            "_________________________________________________________________\n",
            "Layer (type)                 Output Shape              Param #   \n",
            "=================================================================\n",
            "bidir1 (Bidirectional)       (None, 187, 80)           13440     \n",
            "_________________________________________________________________\n",
            "dropout (Dropout)            (None, 187, 80)           0         \n",
            "_________________________________________________________________\n",
            "dense1 (Dense)               (None, 187, 40)           3240      \n",
            "_________________________________________________________________\n",
            "flatten_1 (Flatten)          (None, 7480)              0         \n",
            "_________________________________________________________________\n",
            "dense2 (Dense)               (None, 1)                 7481      \n",
            "=================================================================\n",
            "Total params: 24,161\n",
            "Trainable params: 24,161\n",
            "Non-trainable params: 0\n",
            "_________________________________________________________________\n"
          ],
          "name": "stdout"
        }
      ]
    },
    {
      "cell_type": "code",
      "metadata": {
        "id": "zZJAiEt7tOpY",
        "colab_type": "code",
        "outputId": "1749026b-a7af-452b-ca8f-57e8c3cb0563",
        "colab": {
          "base_uri": "https://localhost:8080/",
          "height": 1000
        }
      },
      "source": [
        "model = get_model_lstm( ) # m_timepoints_per_sample=187, internal_dim=20\n",
        "\n",
        "file_path = \"bidirect_test_ptbdb.h5\"\n",
        "\n",
        "checkpoint = ModelCheckpoint(file_path, monitor='val_acc', verbose=1, save_best_only=True, mode='max')\n",
        "early = EarlyStopping(monitor=\"val_acc\", mode=\"max\", patience=5, verbose=1)\n",
        "redonplat = ReduceLROnPlateau(monitor=\"val_acc\", mode=\"max\", patience=3, verbose=2)\n",
        "callbacks_list = [checkpoint, early, redonplat]  # early\n",
        "\n",
        "\n",
        "model.fit(X, Y, epochs=50,  batch_size = 400, verbose=2, callbacks=callbacks_list, validation_split=0.1)"
      ],
      "execution_count": 0,
      "outputs": [
        {
          "output_type": "stream",
          "text": [
            "Model: \"sequential_8\"\n",
            "_________________________________________________________________\n",
            "Layer (type)                 Output Shape              Param #   \n",
            "=================================================================\n",
            "bidirectional_1 (Bidirection (None, 128)               33792     \n",
            "_________________________________________________________________\n",
            "dense_3 (Dense)              (None, 32)                4128      \n",
            "_________________________________________________________________\n",
            "dense_4 (Dense)              (None, 1)                 33        \n",
            "=================================================================\n",
            "Total params: 37,953\n",
            "Trainable params: 37,953\n",
            "Non-trainable params: 0\n",
            "_________________________________________________________________\n",
            "Train on 10476 samples, validate on 1165 samples\n",
            "Epoch 1/50\n",
            " - 29s - loss: 0.6136 - acc: 0.7027 - val_loss: 0.5635 - val_acc: 0.6996\n",
            "\n",
            "Epoch 00001: val_acc improved from -inf to 0.69957, saving model to bidirect_test_ptbdb.h5\n",
            "Epoch 2/50\n",
            " - 26s - loss: 0.4916 - acc: 0.7324 - val_loss: 0.4531 - val_acc: 0.7468\n",
            "\n",
            "Epoch 00002: val_acc improved from 0.69957 to 0.74678, saving model to bidirect_test_ptbdb.h5\n",
            "Epoch 3/50\n",
            " - 26s - loss: 0.4236 - acc: 0.7876 - val_loss: 0.4144 - val_acc: 0.7914\n",
            "\n",
            "Epoch 00003: val_acc improved from 0.74678 to 0.79142, saving model to bidirect_test_ptbdb.h5\n",
            "Epoch 4/50\n",
            " - 26s - loss: 0.4051 - acc: 0.8015 - val_loss: 0.4029 - val_acc: 0.8103\n",
            "\n",
            "Epoch 00004: val_acc improved from 0.79142 to 0.81030, saving model to bidirect_test_ptbdb.h5\n",
            "Epoch 5/50\n",
            " - 26s - loss: 0.3923 - acc: 0.8103 - val_loss: 0.4031 - val_acc: 0.7931\n",
            "\n",
            "Epoch 00005: val_acc did not improve from 0.81030\n",
            "Epoch 6/50\n",
            " - 26s - loss: 0.3815 - acc: 0.8150 - val_loss: 0.3914 - val_acc: 0.8009\n",
            "\n",
            "Epoch 00006: val_acc did not improve from 0.81030\n",
            "Epoch 7/50\n",
            " - 26s - loss: 0.3693 - acc: 0.8266 - val_loss: 0.3829 - val_acc: 0.8283\n",
            "\n",
            "Epoch 00007: val_acc improved from 0.81030 to 0.82833, saving model to bidirect_test_ptbdb.h5\n",
            "Epoch 8/50\n",
            " - 26s - loss: 0.3607 - acc: 0.8288 - val_loss: 0.3950 - val_acc: 0.7897\n",
            "\n",
            "Epoch 00008: val_acc did not improve from 0.82833\n",
            "Epoch 9/50\n",
            " - 26s - loss: 0.3579 - acc: 0.8345 - val_loss: 0.3712 - val_acc: 0.8403\n",
            "\n",
            "Epoch 00009: val_acc improved from 0.82833 to 0.84034, saving model to bidirect_test_ptbdb.h5\n",
            "Epoch 10/50\n",
            " - 26s - loss: 0.3428 - acc: 0.8464 - val_loss: 0.4143 - val_acc: 0.8043\n",
            "\n",
            "Epoch 00010: val_acc did not improve from 0.84034\n",
            "Epoch 11/50\n",
            " - 26s - loss: 0.3382 - acc: 0.8477 - val_loss: 0.3474 - val_acc: 0.8489\n",
            "\n",
            "Epoch 00011: val_acc improved from 0.84034 to 0.84893, saving model to bidirect_test_ptbdb.h5\n",
            "Epoch 12/50\n",
            " - 27s - loss: 0.3274 - acc: 0.8503 - val_loss: 0.3800 - val_acc: 0.8215\n",
            "\n",
            "Epoch 00012: val_acc did not improve from 0.84893\n",
            "Epoch 13/50\n",
            " - 27s - loss: 0.3209 - acc: 0.8597 - val_loss: 0.3364 - val_acc: 0.8429\n",
            "\n",
            "Epoch 00013: val_acc did not improve from 0.84893\n",
            "Epoch 14/50\n",
            " - 27s - loss: 0.3036 - acc: 0.8655 - val_loss: 0.3204 - val_acc: 0.8644\n",
            "\n",
            "Epoch 00014: val_acc improved from 0.84893 to 0.86438, saving model to bidirect_test_ptbdb.h5\n",
            "Epoch 15/50\n",
            " - 27s - loss: 0.2945 - acc: 0.8736 - val_loss: 0.3140 - val_acc: 0.8618\n",
            "\n",
            "Epoch 00015: val_acc did not improve from 0.86438\n",
            "Epoch 16/50\n",
            " - 27s - loss: 0.2917 - acc: 0.8750 - val_loss: 0.3042 - val_acc: 0.8790\n",
            "\n",
            "Epoch 00016: val_acc improved from 0.86438 to 0.87897, saving model to bidirect_test_ptbdb.h5\n",
            "Epoch 17/50\n",
            " - 26s - loss: 0.2718 - acc: 0.8854 - val_loss: 0.2886 - val_acc: 0.8850\n",
            "\n",
            "Epoch 00017: val_acc improved from 0.87897 to 0.88498, saving model to bidirect_test_ptbdb.h5\n",
            "Epoch 18/50\n",
            " - 26s - loss: 0.2523 - acc: 0.9022 - val_loss: 0.3005 - val_acc: 0.8738\n",
            "\n",
            "Epoch 00018: val_acc did not improve from 0.88498\n",
            "Epoch 19/50\n",
            " - 26s - loss: 0.2525 - acc: 0.8950 - val_loss: 0.2514 - val_acc: 0.9030\n",
            "\n",
            "Epoch 00019: val_acc improved from 0.88498 to 0.90300, saving model to bidirect_test_ptbdb.h5\n",
            "Epoch 20/50\n",
            " - 26s - loss: 0.2205 - acc: 0.9146 - val_loss: 0.2472 - val_acc: 0.8996\n",
            "\n",
            "Epoch 00020: val_acc did not improve from 0.90300\n",
            "Epoch 21/50\n",
            " - 26s - loss: 0.2322 - acc: 0.8993 - val_loss: 0.2409 - val_acc: 0.8884\n",
            "\n",
            "Epoch 00021: val_acc did not improve from 0.90300\n",
            "Epoch 22/50\n",
            " - 26s - loss: 0.2081 - acc: 0.9128 - val_loss: 0.2736 - val_acc: 0.8850\n",
            "\n",
            "Epoch 00022: val_acc did not improve from 0.90300\n",
            "\n",
            "Epoch 00022: ReduceLROnPlateau reducing learning rate to 0.00010000000474974513.\n",
            "Epoch 23/50\n",
            " - 25s - loss: 0.1941 - acc: 0.9209 - val_loss: 0.2037 - val_acc: 0.9107\n",
            "\n",
            "Epoch 00023: val_acc improved from 0.90300 to 0.91073, saving model to bidirect_test_ptbdb.h5\n",
            "Epoch 24/50\n",
            " - 25s - loss: 0.1713 - acc: 0.9332 - val_loss: 0.1954 - val_acc: 0.9185\n",
            "\n",
            "Epoch 00024: val_acc improved from 0.91073 to 0.91845, saving model to bidirect_test_ptbdb.h5\n",
            "Epoch 25/50\n",
            " - 26s - loss: 0.1679 - acc: 0.9356 - val_loss: 0.1936 - val_acc: 0.9202\n",
            "\n",
            "Epoch 00025: val_acc improved from 0.91845 to 0.92017, saving model to bidirect_test_ptbdb.h5\n",
            "Epoch 26/50\n",
            " - 26s - loss: 0.1653 - acc: 0.9371 - val_loss: 0.1991 - val_acc: 0.9150\n",
            "\n",
            "Epoch 00026: val_acc did not improve from 0.92017\n",
            "Epoch 27/50\n",
            " - 26s - loss: 0.1641 - acc: 0.9370 - val_loss: 0.1920 - val_acc: 0.9202\n",
            "\n",
            "Epoch 00027: val_acc improved from 0.92017 to 0.92017, saving model to bidirect_test_ptbdb.h5\n",
            "Epoch 28/50\n",
            " - 26s - loss: 0.1610 - acc: 0.9366 - val_loss: 0.1911 - val_acc: 0.9167\n",
            "\n",
            "Epoch 00028: val_acc did not improve from 0.92017\n",
            "\n",
            "Epoch 00028: ReduceLROnPlateau reducing learning rate to 1.0000000474974514e-05.\n",
            "Epoch 29/50\n",
            " - 26s - loss: 0.1590 - acc: 0.9399 - val_loss: 0.1905 - val_acc: 0.9202\n",
            "\n",
            "Epoch 00029: val_acc did not improve from 0.92017\n",
            "Epoch 30/50\n",
            " - 26s - loss: 0.1580 - acc: 0.9397 - val_loss: 0.1911 - val_acc: 0.9202\n",
            "\n",
            "Epoch 00030: val_acc did not improve from 0.92017\n",
            "Epoch 31/50\n",
            " - 26s - loss: 0.1577 - acc: 0.9392 - val_loss: 0.1913 - val_acc: 0.9193\n",
            "\n",
            "Epoch 00031: val_acc did not improve from 0.92017\n",
            "\n",
            "Epoch 00031: ReduceLROnPlateau reducing learning rate to 1.0000000656873453e-06.\n",
            "Epoch 32/50\n",
            " - 26s - loss: 0.1574 - acc: 0.9391 - val_loss: 0.1912 - val_acc: 0.9193\n",
            "\n",
            "Epoch 00032: val_acc did not improve from 0.92017\n",
            "Epoch 00032: early stopping\n"
          ],
          "name": "stdout"
        },
        {
          "output_type": "execute_result",
          "data": {
            "text/plain": [
              "<keras.callbacks.History at 0x7f2257a86748>"
            ]
          },
          "metadata": {
            "tags": []
          },
          "execution_count": 29
        }
      ]
    },
    {
      "cell_type": "markdown",
      "metadata": {
        "id": "iIWYhY4l6s_z",
        "colab_type": "text"
      },
      "source": [
        "Getting output from intermediate layers for TSNE and UMAP"
      ]
    },
    {
      "cell_type": "code",
      "metadata": {
        "id": "xBy-ENIntOyJ",
        "colab_type": "code",
        "outputId": "282d9958-60f3-405e-a2fc-2eb61022e31b",
        "colab": {
          "base_uri": "https://localhost:8080/",
          "height": 51
        }
      },
      "source": [
        "model.load_weights(file_path)\n",
        "\n",
        "pred_test = model.predict(X_test)\n",
        "pred_test = (pred_test>0.5).astype(np.int8)\n",
        "\n",
        "f1 = f1_score(Y_test, pred_test)\n",
        "\n",
        "print(\"Test f1 score : %s \"% f1)\n",
        "\n",
        "acc = accuracy_score(Y_test, pred_test)\n",
        "\n",
        "print(\"Test accuracy score : %s \"% acc)"
      ],
      "execution_count": 0,
      "outputs": [
        {
          "output_type": "stream",
          "text": [
            "Test f1 score : 0.9479961832061069 \n",
            "Test accuracy score : 0.925111645482652 \n"
          ],
          "name": "stdout"
        }
      ]
    },
    {
      "cell_type": "markdown",
      "metadata": {
        "id": "7sEySdtx8-ll",
        "colab_type": "text"
      },
      "source": [
        "## Plotting\n",
        "\n",
        "### TSNE based on latent representation"
      ]
    },
    {
      "cell_type": "code",
      "metadata": {
        "id": "9h8Yv-bI9DtJ",
        "colab_type": "code",
        "colab": {}
      },
      "source": [
        "from keras import backend as K\n",
        "\n",
        "# with a Sequential model\n",
        "# Q: is it the third layer?\n",
        "get_3rd_layer_output = K.function([model.layers[0].input],\n",
        "                                  [model.layers[1].output])\n",
        "\n",
        "layer_output = get_3rd_layer_output([X])[0]"
      ],
      "execution_count": 0,
      "outputs": []
    },
    {
      "cell_type": "code",
      "metadata": {
        "id": "znKGnaY29u0Z",
        "colab_type": "code",
        "outputId": "0be54a6a-6dce-4f07-a509-44a93e5c98b1",
        "colab": {
          "base_uri": "https://localhost:8080/",
          "height": 34
        }
      },
      "source": [
        "layer_output.shape"
      ],
      "execution_count": 0,
      "outputs": [
        {
          "output_type": "execute_result",
          "data": {
            "text/plain": [
              "(11641, 32)"
            ]
          },
          "metadata": {
            "tags": []
          },
          "execution_count": 37
        }
      ]
    },
    {
      "cell_type": "code",
      "metadata": {
        "id": "JFs9I2J39RSb",
        "colab_type": "code",
        "colab": {}
      },
      "source": [
        "import seaborn as sns\n",
        "import matplotlib.pyplot as plt\n",
        "\n",
        "from sklearn.manifold import TSNE"
      ],
      "execution_count": 0,
      "outputs": []
    },
    {
      "cell_type": "code",
      "metadata": {
        "id": "iUSn-KYh9Kng",
        "colab_type": "code",
        "outputId": "4b327b8e-e99d-4f43-eac3-6b50a6966c3f",
        "colab": {
          "base_uri": "https://localhost:8080/",
          "height": 265
        }
      },
      "source": [
        "#layer_output\n",
        "# Q what is 10\n",
        "X_plot_test = TSNE(n_components=2, perplexity=50, random_state=1337).fit_transform(layer_output)\n",
        "sns.scatterplot(x=X_plot_test[:,0], y=X_plot_test[:,1], hue=Y)\n",
        "plt.show()"
      ],
      "execution_count": 0,
      "outputs": [
        {
          "output_type": "display_data",
          "data": {
            "image/png": "[encoded data removed]",
            "text/plain": [
              "<Figure size 432x288 with 1 Axes>"
            ]
          },
          "metadata": {
            "tags": []
          }
        }
      ]
    },
    {
      "cell_type": "markdown",
      "metadata": {
        "id": "zAsp27RqCZQd",
        "colab_type": "text"
      },
      "source": [
        "### Plot ROC curve to compare various keras classifiers\n",
        "\n",
        "see https://www.dlology.com/blog/simple-guide-on-how-to-generate-roc-plot-for-keras-classifier/"
      ]
    },
    {
      "cell_type": "code",
      "metadata": {
        "id": "8WuuX1eYCbi4",
        "colab_type": "code",
        "outputId": "cb4cc058-30e6-430b-c836-6e18e018e157",
        "colab": {
          "base_uri": "https://localhost:8080/",
          "height": 295
        }
      },
      "source": [
        "from keras.wrappers.scikit_learn import KerasClassifier\n",
        "from sklearn.metrics import roc_curve\n",
        "from sklearn.metrics import auc\n",
        "\n",
        "\n",
        "#from keras.wrappers.scikit_learn import KerasClassifier\n",
        "#keras_model = build_model()\n",
        "#keras_model.fit(X_train, y_train, epochs=5, batch_size=100, verbose=1)\n",
        "\n",
        "\n",
        "y_pred_keras = model.predict(X_test).ravel()\n",
        "fpr_keras, tpr_keras, thresholds_keras = roc_curve(Y_test, y_pred_keras)\n",
        "auc_keras = auc(fpr_keras, tpr_keras)\n",
        "\n",
        "plt.figure(1)\n",
        "plt.plot([0, 1], [0, 1], 'k--')\n",
        "plt.plot(fpr_keras, tpr_keras, label='Keras (area = {:.3f})'.format(auc_keras))\n",
        "\n",
        "plt.xlabel('False positive rate')\n",
        "plt.ylabel('True positive rate')\n",
        "plt.title('ROC curve')\n",
        "plt.legend(loc='best')\n",
        "plt.show()"
      ],
      "execution_count": 0,
      "outputs": [
        {
          "output_type": "display_data",
          "data": {
            "image/png": "[encoded data removed]",
            "text/plain": [
              "<Figure size 432x288 with 1 Axes>"
            ]
          },
          "metadata": {
            "tags": []
          }
        }
      ]
    },
    {
      "cell_type": "markdown",
      "metadata": {
        "id": "AF2pafZ9WwK4",
        "colab_type": "text"
      },
      "source": [
        "# GRU model"
      ]
    },
    {
      "cell_type": "code",
      "metadata": {
        "id": "miA8qx6FWzJ9",
        "colab_type": "code",
        "colab": {}
      },
      "source": [
        "def get_model_GRU():\n",
        "    model = Sequential([\n",
        "      Bidirectional(GRU(64), input_shape=(187,1)),\n",
        "      Dropout(0.5, name='dropout'),\n",
        "      Dense(32, activation=\"relu\"),\n",
        "      Dense(1, activation=\"sigmoid\")\n",
        "    ])\n",
        "\n",
        "    opt = optimizers.Adam(0.001)  # did changing the lr help ? \n",
        "\n",
        "    model.compile(optimizer=opt, loss=losses.binary_crossentropy, metrics=['acc'])\n",
        "    model.summary()\n",
        "    return model"
      ],
      "execution_count": 0,
      "outputs": []
    },
    {
      "cell_type": "code",
      "metadata": {
        "id": "QQ9eNFBSXO25",
        "colab_type": "code",
        "colab": {
          "base_uri": "https://localhost:8080/",
          "height": 1000
        },
        "outputId": "b7691963-3902-4d5e-9a4b-f4b9fac4a91c"
      },
      "source": [
        "model_gru = get_model_GRU( ) # m_timepoints_per_sample=187, internal_dim=20\n",
        "\n",
        "file_path = \"bidirect_gru_ptbdb.h5\"\n",
        "\n",
        "checkpoint = ModelCheckpoint(file_path, monitor='val_acc', verbose=1, save_best_only=True, mode='max')\n",
        "early = EarlyStopping(monitor=\"val_acc\", mode=\"max\", patience=5, verbose=1)\n",
        "redonplat = ReduceLROnPlateau(monitor=\"val_acc\", mode=\"max\", patience=3, verbose=2)\n",
        "callbacks_list = [checkpoint, early, redonplat]  # early\n",
        "\n",
        "\n",
        "model_gru.fit(X, Y, epochs=50,  batch_size = 400, verbose=2, callbacks=callbacks_list, validation_split=0.1)"
      ],
      "execution_count": 16,
      "outputs": [
        {
          "output_type": "stream",
          "text": [
            "WARNING:tensorflow:From /usr/local/lib/python3.6/dist-packages/keras/backend/tensorflow_backend.py:66: The name tf.get_default_graph is deprecated. Please use tf.compat.v1.get_default_graph instead.\n",
            "\n",
            "WARNING:tensorflow:From /usr/local/lib/python3.6/dist-packages/keras/backend/tensorflow_backend.py:541: The name tf.placeholder is deprecated. Please use tf.compat.v1.placeholder instead.\n",
            "\n",
            "WARNING:tensorflow:From /usr/local/lib/python3.6/dist-packages/keras/backend/tensorflow_backend.py:4432: The name tf.random_uniform is deprecated. Please use tf.random.uniform instead.\n",
            "\n",
            "WARNING:tensorflow:From /usr/local/lib/python3.6/dist-packages/keras/backend/tensorflow_backend.py:148: The name tf.placeholder_with_default is deprecated. Please use tf.compat.v1.placeholder_with_default instead.\n",
            "\n",
            "WARNING:tensorflow:From /usr/local/lib/python3.6/dist-packages/keras/backend/tensorflow_backend.py:3733: calling dropout (from tensorflow.python.ops.nn_ops) with keep_prob is deprecated and will be removed in a future version.\n",
            "Instructions for updating:\n",
            "Please use `rate` instead of `keep_prob`. Rate should be set to `rate = 1 - keep_prob`.\n",
            "WARNING:tensorflow:From /usr/local/lib/python3.6/dist-packages/keras/optimizers.py:793: The name tf.train.Optimizer is deprecated. Please use tf.compat.v1.train.Optimizer instead.\n",
            "\n",
            "WARNING:tensorflow:From /usr/local/lib/python3.6/dist-packages/keras/backend/tensorflow_backend.py:3657: The name tf.log is deprecated. Please use tf.math.log instead.\n",
            "\n",
            "WARNING:tensorflow:From /usr/local/lib/python3.6/dist-packages/tensorflow_core/python/ops/nn_impl.py:183: where (from tensorflow.python.ops.array_ops) is deprecated and will be removed in a future version.\n",
            "Instructions for updating:\n",
            "Use tf.where in 2.0, which has the same broadcast rule as np.where\n",
            "Model: \"sequential_1\"\n",
            "_________________________________________________________________\n",
            "Layer (type)                 Output Shape              Param #   \n",
            "=================================================================\n",
            "bidirectional_1 (Bidirection (None, 128)               25344     \n",
            "_________________________________________________________________\n",
            "dropout (Dropout)            (None, 128)               0         \n",
            "_________________________________________________________________\n",
            "dense_1 (Dense)              (None, 32)                4128      \n",
            "_________________________________________________________________\n",
            "dense_2 (Dense)              (None, 1)                 33        \n",
            "=================================================================\n",
            "Total params: 29,505\n",
            "Trainable params: 29,505\n",
            "Non-trainable params: 0\n",
            "_________________________________________________________________\n",
            "WARNING:tensorflow:From /usr/local/lib/python3.6/dist-packages/keras/backend/tensorflow_backend.py:1033: The name tf.assign_add is deprecated. Please use tf.compat.v1.assign_add instead.\n",
            "\n",
            "WARNING:tensorflow:From /usr/local/lib/python3.6/dist-packages/keras/backend/tensorflow_backend.py:1020: The name tf.assign is deprecated. Please use tf.compat.v1.assign instead.\n",
            "\n",
            "WARNING:tensorflow:From /usr/local/lib/python3.6/dist-packages/keras/backend/tensorflow_backend.py:3005: The name tf.Session is deprecated. Please use tf.compat.v1.Session instead.\n",
            "\n",
            "Train on 10476 samples, validate on 1165 samples\n",
            "Epoch 1/50\n",
            "WARNING:tensorflow:From /usr/local/lib/python3.6/dist-packages/keras/backend/tensorflow_backend.py:190: The name tf.get_default_session is deprecated. Please use tf.compat.v1.get_default_session instead.\n",
            "\n",
            "WARNING:tensorflow:From /usr/local/lib/python3.6/dist-packages/keras/backend/tensorflow_backend.py:197: The name tf.ConfigProto is deprecated. Please use tf.compat.v1.ConfigProto instead.\n",
            "\n",
            "WARNING:tensorflow:From /usr/local/lib/python3.6/dist-packages/keras/backend/tensorflow_backend.py:207: The name tf.global_variables is deprecated. Please use tf.compat.v1.global_variables instead.\n",
            "\n",
            "WARNING:tensorflow:From /usr/local/lib/python3.6/dist-packages/keras/backend/tensorflow_backend.py:216: The name tf.is_variable_initialized is deprecated. Please use tf.compat.v1.is_variable_initialized instead.\n",
            "\n",
            "WARNING:tensorflow:From /usr/local/lib/python3.6/dist-packages/keras/backend/tensorflow_backend.py:223: The name tf.variables_initializer is deprecated. Please use tf.compat.v1.variables_initializer instead.\n",
            "\n",
            " - 22s - loss: 0.6248 - acc: 0.7083 - val_loss: 0.6084 - val_acc: 0.6996\n",
            "\n",
            "Epoch 00001: val_acc improved from -inf to 0.69957, saving model to bidirect_gru_ptbdb.h5\n",
            "Epoch 2/50\n",
            " - 20s - loss: 0.5728 - acc: 0.7244 - val_loss: 0.5548 - val_acc: 0.6996\n",
            "\n",
            "Epoch 00002: val_acc did not improve from 0.69957\n",
            "Epoch 3/50\n",
            " - 20s - loss: 0.5228 - acc: 0.7226 - val_loss: 0.5179 - val_acc: 0.7150\n",
            "\n",
            "Epoch 00003: val_acc improved from 0.69957 to 0.71502, saving model to bidirect_gru_ptbdb.h5\n",
            "Epoch 4/50\n",
            " - 20s - loss: 0.5097 - acc: 0.7244 - val_loss: 0.5124 - val_acc: 0.7382\n",
            "\n",
            "Epoch 00004: val_acc improved from 0.71502 to 0.73820, saving model to bidirect_gru_ptbdb.h5\n",
            "Epoch 5/50\n",
            " - 20s - loss: 0.4876 - acc: 0.7364 - val_loss: 0.5068 - val_acc: 0.7485\n",
            "\n",
            "Epoch 00005: val_acc improved from 0.73820 to 0.74850, saving model to bidirect_gru_ptbdb.h5\n",
            "Epoch 6/50\n",
            " - 20s - loss: 0.4726 - acc: 0.7539 - val_loss: 0.4628 - val_acc: 0.8026\n",
            "\n",
            "Epoch 00006: val_acc improved from 0.74850 to 0.80258, saving model to bidirect_gru_ptbdb.h5\n",
            "Epoch 7/50\n",
            " - 20s - loss: 0.4282 - acc: 0.7957 - val_loss: 0.4071 - val_acc: 0.8052\n",
            "\n",
            "Epoch 00007: val_acc improved from 0.80258 to 0.80515, saving model to bidirect_gru_ptbdb.h5\n",
            "Epoch 8/50\n",
            " - 20s - loss: 0.3978 - acc: 0.8205 - val_loss: 0.3958 - val_acc: 0.8180\n",
            "\n",
            "Epoch 00008: val_acc improved from 0.80515 to 0.81803, saving model to bidirect_gru_ptbdb.h5\n",
            "Epoch 9/50\n",
            " - 20s - loss: 0.3772 - acc: 0.8351 - val_loss: 0.3654 - val_acc: 0.8489\n",
            "\n",
            "Epoch 00009: val_acc improved from 0.81803 to 0.84893, saving model to bidirect_gru_ptbdb.h5\n",
            "Epoch 10/50\n",
            " - 20s - loss: 0.3561 - acc: 0.8496 - val_loss: 0.3502 - val_acc: 0.8506\n",
            "\n",
            "Epoch 00010: val_acc improved from 0.84893 to 0.85064, saving model to bidirect_gru_ptbdb.h5\n",
            "Epoch 11/50\n",
            " - 20s - loss: 0.3367 - acc: 0.8588 - val_loss: 0.3334 - val_acc: 0.8652\n",
            "\n",
            "Epoch 00011: val_acc improved from 0.85064 to 0.86524, saving model to bidirect_gru_ptbdb.h5\n",
            "Epoch 12/50\n",
            " - 20s - loss: 0.3268 - acc: 0.8643 - val_loss: 0.3531 - val_acc: 0.8352\n",
            "\n",
            "Epoch 00012: val_acc did not improve from 0.86524\n",
            "Epoch 13/50\n",
            " - 20s - loss: 0.3268 - acc: 0.8660 - val_loss: 0.3414 - val_acc: 0.8524\n",
            "\n",
            "Epoch 00013: val_acc did not improve from 0.86524\n",
            "Epoch 14/50\n",
            " - 20s - loss: 0.3242 - acc: 0.8686 - val_loss: 0.3330 - val_acc: 0.8601\n",
            "\n",
            "Epoch 00014: val_acc did not improve from 0.86524\n",
            "\n",
            "Epoch 00014: ReduceLROnPlateau reducing learning rate to 0.00010000000474974513.\n",
            "Epoch 15/50\n",
            " - 20s - loss: 0.3123 - acc: 0.8736 - val_loss: 0.3166 - val_acc: 0.8644\n",
            "\n",
            "Epoch 00015: val_acc did not improve from 0.86524\n",
            "Epoch 16/50\n",
            " - 19s - loss: 0.3087 - acc: 0.8768 - val_loss: 0.3193 - val_acc: 0.8670\n",
            "\n",
            "Epoch 00016: val_acc improved from 0.86524 to 0.86695, saving model to bidirect_gru_ptbdb.h5\n",
            "Epoch 17/50\n",
            " - 20s - loss: 0.3090 - acc: 0.8750 - val_loss: 0.3157 - val_acc: 0.8670\n",
            "\n",
            "Epoch 00017: val_acc did not improve from 0.86695\n",
            "Epoch 18/50\n",
            " - 20s - loss: 0.3083 - acc: 0.8780 - val_loss: 0.3164 - val_acc: 0.8678\n",
            "\n",
            "Epoch 00018: val_acc improved from 0.86695 to 0.86781, saving model to bidirect_gru_ptbdb.h5\n",
            "Epoch 19/50\n",
            " - 20s - loss: 0.3064 - acc: 0.8779 - val_loss: 0.3152 - val_acc: 0.8695\n",
            "\n",
            "Epoch 00019: val_acc improved from 0.86781 to 0.86953, saving model to bidirect_gru_ptbdb.h5\n",
            "Epoch 20/50\n",
            " - 19s - loss: 0.3081 - acc: 0.8774 - val_loss: 0.3141 - val_acc: 0.8687\n",
            "\n",
            "Epoch 00020: val_acc did not improve from 0.86953\n",
            "Epoch 21/50\n",
            " - 20s - loss: 0.3045 - acc: 0.8771 - val_loss: 0.3144 - val_acc: 0.8721\n",
            "\n",
            "Epoch 00021: val_acc improved from 0.86953 to 0.87210, saving model to bidirect_gru_ptbdb.h5\n",
            "Epoch 22/50\n",
            " - 19s - loss: 0.3037 - acc: 0.8776 - val_loss: 0.3130 - val_acc: 0.8730\n",
            "\n",
            "Epoch 00022: val_acc improved from 0.87210 to 0.87296, saving model to bidirect_gru_ptbdb.h5\n",
            "Epoch 23/50\n",
            " - 19s - loss: 0.3039 - acc: 0.8785 - val_loss: 0.3102 - val_acc: 0.8755\n",
            "\n",
            "Epoch 00023: val_acc improved from 0.87296 to 0.87554, saving model to bidirect_gru_ptbdb.h5\n",
            "Epoch 24/50\n",
            " - 20s - loss: 0.3055 - acc: 0.8782 - val_loss: 0.3111 - val_acc: 0.8773\n",
            "\n",
            "Epoch 00024: val_acc improved from 0.87554 to 0.87725, saving model to bidirect_gru_ptbdb.h5\n",
            "Epoch 25/50\n",
            " - 20s - loss: 0.3032 - acc: 0.8782 - val_loss: 0.3131 - val_acc: 0.8755\n",
            "\n",
            "Epoch 00025: val_acc did not improve from 0.87725\n",
            "Epoch 26/50\n",
            " - 20s - loss: 0.3010 - acc: 0.8805 - val_loss: 0.3103 - val_acc: 0.8738\n",
            "\n",
            "Epoch 00026: val_acc did not improve from 0.87725\n",
            "Epoch 27/50\n",
            " - 20s - loss: 0.2994 - acc: 0.8792 - val_loss: 0.3087 - val_acc: 0.8738\n",
            "\n",
            "Epoch 00027: val_acc did not improve from 0.87725\n",
            "\n",
            "Epoch 00027: ReduceLROnPlateau reducing learning rate to 1.0000000474974514e-05.\n",
            "Epoch 28/50\n",
            " - 20s - loss: 0.2998 - acc: 0.8804 - val_loss: 0.3091 - val_acc: 0.8773\n",
            "\n",
            "Epoch 00028: val_acc did not improve from 0.87725\n",
            "Epoch 29/50\n",
            " - 20s - loss: 0.3005 - acc: 0.8794 - val_loss: 0.3091 - val_acc: 0.8781\n",
            "\n",
            "Epoch 00029: val_acc improved from 0.87725 to 0.87811, saving model to bidirect_gru_ptbdb.h5\n",
            "Epoch 30/50\n",
            " - 20s - loss: 0.2997 - acc: 0.8813 - val_loss: 0.3091 - val_acc: 0.8781\n",
            "\n",
            "Epoch 00030: val_acc did not improve from 0.87811\n",
            "Epoch 31/50\n",
            " - 20s - loss: 0.3017 - acc: 0.8792 - val_loss: 0.3088 - val_acc: 0.8755\n",
            "\n",
            "Epoch 00031: val_acc did not improve from 0.87811\n",
            "Epoch 32/50\n",
            " - 19s - loss: 0.3006 - acc: 0.8800 - val_loss: 0.3086 - val_acc: 0.8764\n",
            "\n",
            "Epoch 00032: val_acc did not improve from 0.87811\n",
            "\n",
            "Epoch 00032: ReduceLROnPlateau reducing learning rate to 1.0000000656873453e-06.\n",
            "Epoch 33/50\n",
            " - 20s - loss: 0.3018 - acc: 0.8804 - val_loss: 0.3086 - val_acc: 0.8764\n",
            "\n",
            "Epoch 00033: val_acc did not improve from 0.87811\n",
            "Epoch 34/50\n",
            " - 19s - loss: 0.3013 - acc: 0.8792 - val_loss: 0.3086 - val_acc: 0.8764\n",
            "\n",
            "Epoch 00034: val_acc did not improve from 0.87811\n",
            "Epoch 00034: early stopping\n"
          ],
          "name": "stdout"
        },
        {
          "output_type": "execute_result",
          "data": {
            "text/plain": [
              "<keras.callbacks.History at 0x7f23f10cac50>"
            ]
          },
          "metadata": {
            "tags": []
          },
          "execution_count": 16
        }
      ]
    },
    {
      "cell_type": "code",
      "metadata": {
        "id": "-fu55euhakJn",
        "colab_type": "code",
        "colab": {
          "base_uri": "https://localhost:8080/",
          "height": 51
        },
        "outputId": "9c9d4c96-1cc5-4ea4-dd1c-b84b32fc9a5d"
      },
      "source": [
        "model_gru.load_weights(file_path)\n",
        "\n",
        "pred_test = model_gru.predict(X_test)\n",
        "pred_test = (pred_test>0.5).astype(np.int8)\n",
        "\n",
        "f1 = f1_score(Y_test, pred_test)\n",
        "\n",
        "print(\"Test f1 score : %s \"% f1)\n",
        "\n",
        "acc = accuracy_score(Y_test, pred_test)\n",
        "\n",
        "print(\"Test accuracy score : %s \"% acc)"
      ],
      "execution_count": 18,
      "outputs": [
        {
          "output_type": "stream",
          "text": [
            "Test f1 score : 0.9127674582647544 \n",
            "Test accuracy score : 0.872552387495706 \n"
          ],
          "name": "stdout"
        }
      ]
    },
    {
      "cell_type": "markdown",
      "metadata": {
        "id": "DBkh0CxDbNg7",
        "colab_type": "text"
      },
      "source": [
        "##  Bi-directional LSTM Network\n",
        "\n",
        "(from Mostayed, Ahmed, et al. \"Classification of 12-lead ECG signals with Bi-directional LSTM network.\")\n",
        "\n",
        "\n",
        "**NB:** they have used 100 LSTM units"
      ]
    },
    {
      "cell_type": "code",
      "metadata": {
        "id": "BJAIqfdJbax0",
        "colab_type": "code",
        "colab": {}
      },
      "source": [
        "def get_model_bidir_lstm():\n",
        "    model = Sequential([\n",
        "      Bidirectional(LSTM(64, return_sequences=True), input_shape=(187,1)),\n",
        "      Dropout(0.5, name='dropout1'),\n",
        "      Bidirectional(LSTM(64, return_sequences=False)),\n",
        "      Dropout(0.5, name='dropout2'),\n",
        "      #Dense(32, activation=\"relu\"),\n",
        "      Dense(1, activation=\"sigmoid\")\n",
        "    ])\n",
        "\n",
        "    opt = optimizers.Adam(0.001)  # did changing the lr help ? \n",
        "\n",
        "    model.compile(optimizer=opt, loss=losses.binary_crossentropy, metrics=['acc'])\n",
        "    model.summary()\n",
        "    return model\n"
      ],
      "execution_count": 0,
      "outputs": []
    },
    {
      "cell_type": "code",
      "metadata": {
        "id": "t0WGP6FsboUt",
        "colab_type": "code",
        "colab": {
          "base_uri": "https://localhost:8080/",
          "height": 1000
        },
        "outputId": "bd87cc6b-d6bd-4838-eac8-9b1b8c211191"
      },
      "source": [
        "model_bidir_lstm = get_model_bidir_lstm( ) # m_timepoints_per_sample=187, internal_dim=20\n",
        "\n",
        "file_path = \"bidirect_bidir_lstm_ptbdb.h5\"\n",
        "\n",
        "checkpoint = ModelCheckpoint(file_path, monitor='val_acc', verbose=1, save_best_only=True, mode='max')\n",
        "early = EarlyStopping(monitor=\"val_acc\", mode=\"max\", patience=5, verbose=1)\n",
        "redonplat = ReduceLROnPlateau(monitor=\"val_acc\", mode=\"max\", patience=3, verbose=2)\n",
        "callbacks_list = [checkpoint, early, redonplat]  # early\n",
        "\n",
        "\n",
        "model_bidir_lstm.fit(X, Y, epochs=50,  batch_size = 400, verbose=2, callbacks=callbacks_list, validation_split=0.1)"
      ],
      "execution_count": 7,
      "outputs": [
        {
          "output_type": "stream",
          "text": [
            "WARNING:tensorflow:From /usr/local/lib/python3.6/dist-packages/keras/backend/tensorflow_backend.py:66: The name tf.get_default_graph is deprecated. Please use tf.compat.v1.get_default_graph instead.\n",
            "\n",
            "WARNING:tensorflow:From /usr/local/lib/python3.6/dist-packages/keras/backend/tensorflow_backend.py:541: The name tf.placeholder is deprecated. Please use tf.compat.v1.placeholder instead.\n",
            "\n",
            "WARNING:tensorflow:From /usr/local/lib/python3.6/dist-packages/keras/backend/tensorflow_backend.py:4432: The name tf.random_uniform is deprecated. Please use tf.random.uniform instead.\n",
            "\n",
            "WARNING:tensorflow:From /usr/local/lib/python3.6/dist-packages/keras/backend/tensorflow_backend.py:148: The name tf.placeholder_with_default is deprecated. Please use tf.compat.v1.placeholder_with_default instead.\n",
            "\n",
            "WARNING:tensorflow:From /usr/local/lib/python3.6/dist-packages/keras/backend/tensorflow_backend.py:3733: calling dropout (from tensorflow.python.ops.nn_ops) with keep_prob is deprecated and will be removed in a future version.\n",
            "Instructions for updating:\n",
            "Please use `rate` instead of `keep_prob`. Rate should be set to `rate = 1 - keep_prob`.\n",
            "WARNING:tensorflow:From /usr/local/lib/python3.6/dist-packages/keras/optimizers.py:793: The name tf.train.Optimizer is deprecated. Please use tf.compat.v1.train.Optimizer instead.\n",
            "\n",
            "WARNING:tensorflow:From /usr/local/lib/python3.6/dist-packages/keras/backend/tensorflow_backend.py:3657: The name tf.log is deprecated. Please use tf.math.log instead.\n",
            "\n",
            "WARNING:tensorflow:From /usr/local/lib/python3.6/dist-packages/tensorflow_core/python/ops/nn_impl.py:183: where (from tensorflow.python.ops.array_ops) is deprecated and will be removed in a future version.\n",
            "Instructions for updating:\n",
            "Use tf.where in 2.0, which has the same broadcast rule as np.where\n",
            "Model: \"sequential_1\"\n",
            "_________________________________________________________________\n",
            "Layer (type)                 Output Shape              Param #   \n",
            "=================================================================\n",
            "bidirectional_1 (Bidirection (None, 187, 128)          33792     \n",
            "_________________________________________________________________\n",
            "dropout1 (Dropout)           (None, 187, 128)          0         \n",
            "_________________________________________________________________\n",
            "bidirectional_2 (Bidirection (None, 128)               98816     \n",
            "_________________________________________________________________\n",
            "dropout2 (Dropout)           (None, 128)               0         \n",
            "_________________________________________________________________\n",
            "dense_1 (Dense)              (None, 1)                 129       \n",
            "=================================================================\n",
            "Total params: 132,737\n",
            "Trainable params: 132,737\n",
            "Non-trainable params: 0\n",
            "_________________________________________________________________\n",
            "WARNING:tensorflow:From /usr/local/lib/python3.6/dist-packages/keras/backend/tensorflow_backend.py:1033: The name tf.assign_add is deprecated. Please use tf.compat.v1.assign_add instead.\n",
            "\n",
            "WARNING:tensorflow:From /usr/local/lib/python3.6/dist-packages/keras/backend/tensorflow_backend.py:1020: The name tf.assign is deprecated. Please use tf.compat.v1.assign instead.\n",
            "\n",
            "WARNING:tensorflow:From /usr/local/lib/python3.6/dist-packages/keras/backend/tensorflow_backend.py:3005: The name tf.Session is deprecated. Please use tf.compat.v1.Session instead.\n",
            "\n",
            "Train on 10476 samples, validate on 1165 samples\n",
            "Epoch 1/50\n",
            "WARNING:tensorflow:From /usr/local/lib/python3.6/dist-packages/keras/backend/tensorflow_backend.py:190: The name tf.get_default_session is deprecated. Please use tf.compat.v1.get_default_session instead.\n",
            "\n",
            "WARNING:tensorflow:From /usr/local/lib/python3.6/dist-packages/keras/backend/tensorflow_backend.py:197: The name tf.ConfigProto is deprecated. Please use tf.compat.v1.ConfigProto instead.\n",
            "\n",
            "WARNING:tensorflow:From /usr/local/lib/python3.6/dist-packages/keras/backend/tensorflow_backend.py:207: The name tf.global_variables is deprecated. Please use tf.compat.v1.global_variables instead.\n",
            "\n",
            "WARNING:tensorflow:From /usr/local/lib/python3.6/dist-packages/keras/backend/tensorflow_backend.py:216: The name tf.is_variable_initialized is deprecated. Please use tf.compat.v1.is_variable_initialized instead.\n",
            "\n",
            "WARNING:tensorflow:From /usr/local/lib/python3.6/dist-packages/keras/backend/tensorflow_backend.py:223: The name tf.variables_initializer is deprecated. Please use tf.compat.v1.variables_initializer instead.\n",
            "\n",
            " - 92s - loss: 0.5923 - acc: 0.7029 - val_loss: 0.4826 - val_acc: 0.6987\n",
            "\n",
            "Epoch 00001: val_acc improved from -inf to 0.69871, saving model to bidirect_bidir_lstm_ptbdb.h5\n",
            "Epoch 2/50\n",
            " - 89s - loss: 0.4471 - acc: 0.7509 - val_loss: 0.4329 - val_acc: 0.7871\n",
            "\n",
            "Epoch 00002: val_acc improved from 0.69871 to 0.78712, saving model to bidirect_bidir_lstm_ptbdb.h5\n",
            "Epoch 3/50\n",
            " - 88s - loss: 0.4328 - acc: 0.7773 - val_loss: 0.4187 - val_acc: 0.8069\n",
            "\n",
            "Epoch 00003: val_acc improved from 0.78712 to 0.80687, saving model to bidirect_bidir_lstm_ptbdb.h5\n",
            "Epoch 4/50\n",
            " - 88s - loss: 0.4185 - acc: 0.7949 - val_loss: 0.4596 - val_acc: 0.7416\n",
            "\n",
            "Epoch 00004: val_acc did not improve from 0.80687\n",
            "Epoch 5/50\n",
            " - 88s - loss: 0.4061 - acc: 0.8003 - val_loss: 0.4003 - val_acc: 0.8077\n",
            "\n",
            "Epoch 00005: val_acc improved from 0.80687 to 0.80773, saving model to bidirect_bidir_lstm_ptbdb.h5\n",
            "Epoch 6/50\n",
            " - 88s - loss: 0.3884 - acc: 0.8148 - val_loss: 0.3831 - val_acc: 0.8137\n",
            "\n",
            "Epoch 00006: val_acc improved from 0.80773 to 0.81373, saving model to bidirect_bidir_lstm_ptbdb.h5\n",
            "Epoch 7/50\n",
            " - 88s - loss: 0.3679 - acc: 0.8248 - val_loss: 0.3721 - val_acc: 0.8258\n",
            "\n",
            "Epoch 00007: val_acc improved from 0.81373 to 0.82575, saving model to bidirect_bidir_lstm_ptbdb.h5\n",
            "Epoch 8/50\n",
            " - 88s - loss: 0.3577 - acc: 0.8359 - val_loss: 0.3581 - val_acc: 0.8403\n",
            "\n",
            "Epoch 00008: val_acc improved from 0.82575 to 0.84034, saving model to bidirect_bidir_lstm_ptbdb.h5\n",
            "Epoch 9/50\n",
            " - 88s - loss: 0.3507 - acc: 0.8386 - val_loss: 0.3509 - val_acc: 0.8464\n",
            "\n",
            "Epoch 00009: val_acc improved from 0.84034 to 0.84635, saving model to bidirect_bidir_lstm_ptbdb.h5\n",
            "Epoch 10/50\n",
            " - 88s - loss: 0.3277 - acc: 0.8563 - val_loss: 0.3266 - val_acc: 0.8558\n",
            "\n",
            "Epoch 00010: val_acc improved from 0.84635 to 0.85579, saving model to bidirect_bidir_lstm_ptbdb.h5\n",
            "Epoch 11/50\n",
            " - 88s - loss: 0.3106 - acc: 0.8682 - val_loss: 0.3049 - val_acc: 0.8721\n",
            "\n",
            "Epoch 00011: val_acc improved from 0.85579 to 0.87210, saving model to bidirect_bidir_lstm_ptbdb.h5\n",
            "Epoch 12/50\n",
            " - 89s - loss: 0.2952 - acc: 0.8836 - val_loss: 0.3026 - val_acc: 0.8790\n",
            "\n",
            "Epoch 00012: val_acc improved from 0.87210 to 0.87897, saving model to bidirect_bidir_lstm_ptbdb.h5\n",
            "Epoch 13/50\n",
            " - 89s - loss: 0.2890 - acc: 0.8875 - val_loss: 0.2826 - val_acc: 0.8927\n",
            "\n",
            "Epoch 00013: val_acc improved from 0.87897 to 0.89270, saving model to bidirect_bidir_lstm_ptbdb.h5\n",
            "Epoch 14/50\n",
            " - 89s - loss: 0.2776 - acc: 0.8911 - val_loss: 0.2774 - val_acc: 0.8841\n",
            "\n",
            "Epoch 00014: val_acc did not improve from 0.89270\n",
            "Epoch 15/50\n",
            " - 89s - loss: 0.2686 - acc: 0.8964 - val_loss: 0.2735 - val_acc: 0.8901\n",
            "\n",
            "Epoch 00015: val_acc did not improve from 0.89270\n",
            "Epoch 16/50\n",
            " - 89s - loss: 0.2538 - acc: 0.9053 - val_loss: 0.2598 - val_acc: 0.9039\n",
            "\n",
            "Epoch 00016: val_acc improved from 0.89270 to 0.90386, saving model to bidirect_bidir_lstm_ptbdb.h5\n",
            "Epoch 17/50\n",
            " - 90s - loss: 0.2361 - acc: 0.9145 - val_loss: 0.2570 - val_acc: 0.9116\n",
            "\n",
            "Epoch 00017: val_acc improved from 0.90386 to 0.91159, saving model to bidirect_bidir_lstm_ptbdb.h5\n",
            "Epoch 18/50\n",
            " - 90s - loss: 0.2348 - acc: 0.9164 - val_loss: 0.2563 - val_acc: 0.9090\n",
            "\n",
            "Epoch 00018: val_acc did not improve from 0.91159\n",
            "Epoch 19/50\n",
            " - 89s - loss: 0.2361 - acc: 0.9142 - val_loss: 0.2596 - val_acc: 0.8961\n",
            "\n",
            "Epoch 00019: val_acc did not improve from 0.91159\n",
            "Epoch 20/50\n",
            " - 89s - loss: 0.2211 - acc: 0.9168 - val_loss: 0.2307 - val_acc: 0.9099\n",
            "\n",
            "Epoch 00020: val_acc did not improve from 0.91159\n",
            "\n",
            "Epoch 00020: ReduceLROnPlateau reducing learning rate to 0.00010000000474974513.\n",
            "Epoch 21/50\n",
            " - 89s - loss: 0.2021 - acc: 0.9248 - val_loss: 0.2222 - val_acc: 0.9227\n",
            "\n",
            "Epoch 00021: val_acc improved from 0.91159 to 0.92275, saving model to bidirect_bidir_lstm_ptbdb.h5\n",
            "Epoch 22/50\n",
            " - 88s - loss: 0.1953 - acc: 0.9288 - val_loss: 0.2210 - val_acc: 0.9185\n",
            "\n",
            "Epoch 00022: val_acc did not improve from 0.92275\n",
            "Epoch 23/50\n",
            " - 89s - loss: 0.1937 - acc: 0.9290 - val_loss: 0.2216 - val_acc: 0.9133\n",
            "\n",
            "Epoch 00023: val_acc did not improve from 0.92275\n",
            "Epoch 24/50\n",
            " - 88s - loss: 0.1921 - acc: 0.9299 - val_loss: 0.2176 - val_acc: 0.9167\n",
            "\n",
            "Epoch 00024: val_acc did not improve from 0.92275\n",
            "\n",
            "Epoch 00024: ReduceLROnPlateau reducing learning rate to 1.0000000474974514e-05.\n",
            "Epoch 25/50\n",
            " - 88s - loss: 0.1869 - acc: 0.9319 - val_loss: 0.2178 - val_acc: 0.9185\n",
            "\n",
            "Epoch 00025: val_acc did not improve from 0.92275\n",
            "Epoch 26/50\n",
            " - 88s - loss: 0.1859 - acc: 0.9335 - val_loss: 0.2173 - val_acc: 0.9193\n",
            "\n",
            "Epoch 00026: val_acc did not improve from 0.92275\n",
            "Epoch 00026: early stopping\n"
          ],
          "name": "stdout"
        },
        {
          "output_type": "execute_result",
          "data": {
            "text/plain": [
              "<keras.callbacks.History at 0x7f3eb8c60278>"
            ]
          },
          "metadata": {
            "tags": []
          },
          "execution_count": 7
        }
      ]
    },
    {
      "cell_type": "code",
      "metadata": {
        "id": "fGUiZoPin680",
        "colab_type": "code",
        "colab": {
          "base_uri": "https://localhost:8080/",
          "height": 51
        },
        "outputId": "dca44cdc-072d-41aa-8640-87368da3eb1a"
      },
      "source": [
        "model_bidir_lstm.load_weights(file_path)\n",
        "\n",
        "pred_test = model_bidir_lstm.predict(X_test)\n",
        "pred_test = (pred_test>0.5).astype(np.int8)\n",
        "\n",
        "f1 = f1_score(Y_test, pred_test)\n",
        "\n",
        "print(\"Test f1 score : %s \"% f1)\n",
        "\n",
        "acc = accuracy_score(Y_test, pred_test)\n",
        "\n",
        "print(\"Test accuracy score : %s \"% acc)"
      ],
      "execution_count": 9,
      "outputs": [
        {
          "output_type": "stream",
          "text": [
            "Test f1 score : 0.9460819554277499 \n",
            "Test accuracy score : 0.9227069735486088 \n"
          ],
          "name": "stdout"
        }
      ]
    },
    {
      "cell_type": "markdown",
      "metadata": {
        "id": "nhEQM-63LgsL",
        "colab_type": "text"
      },
      "source": [
        "# **Temporal Convolutional Network (TCN)**\n",
        " \n",
        " **Q** why is it different from just stacking convolutional layers until the final output is of the right size?\n",
        "\n",
        " Defining some constants:"
      ]
    },
    {
      "cell_type": "code",
      "metadata": {
        "id": "odROzbFfaBlp",
        "colab_type": "code",
        "colab": {
          "base_uri": "https://localhost:8080/",
          "height": 34
        },
        "outputId": "b326e87a-97d7-43be-f63e-34e1d3c5e5c3"
      },
      "source": [
        "timepoints_per_sample = X.shape[1]"
      ],
      "execution_count": 6,
      "outputs": [
        {
          "output_type": "execute_result",
          "data": {
            "text/plain": [
              "(11641, 187, 1)"
            ]
          },
          "metadata": {
            "tags": []
          },
          "execution_count": 6
        }
      ]
    },
    {
      "cell_type": "code",
      "metadata": {
        "id": "WfGKMRAbZCxe",
        "colab_type": "code",
        "colab": {}
      },
      "source": [
        "def get_model_tcn( timesteps=timepoints_per_sample, input_dim=1):\n",
        "    \"\"\"\n",
        "    @note:  I AM NOT SURE IT CORRECTLY REFLETS THE TCN ARCHITECTURE\n",
        "    \"\"\"\n",
        "    # Input layer\n",
        "    i = Input(batch_shape=(None, timesteps, input_dim))\n",
        "    # Try to do TCN\n",
        "    # Ok I do a dilated convolution instead \n",
        "    # Hopefully I understant it correctly\n",
        "    o = Conv1D(filters=1, kernel_size=2, \n",
        "               padding='causal', \n",
        "               dilation_rate=2,\n",
        "               activation=\"relu\", name=\"dilated_conv\")(i)  # The TCN layers are here.\n",
        "    # Output classification layer\n",
        "    #o = Dense(1, activation=\"sigmoid\", name=\"dense_out\")(o)\n",
        "\n",
        "    model = Model(inputs=[i], outputs=[o])\n",
        "    model.compile(optimizer='adam', loss=losses.binary_crossentropy, metrics=['acc'])\n",
        "\n",
        "    model.summary()\n",
        "    return model"
      ],
      "execution_count": 0,
      "outputs": []
    },
    {
      "cell_type": "code",
      "metadata": {
        "id": "s0BKy4yLgogc",
        "colab_type": "code",
        "colab": {
          "base_uri": "https://localhost:8080/",
          "height": 565
        },
        "outputId": "ffd468a0-53bd-4782-945f-605bd70386b7"
      },
      "source": [
        "model_tcn = get_model_tcn( ) # m_timepoints_per_sample=187, internal_dim=20\n",
        "\n",
        "file_path = \"ptbdb_tcn.h5\"\n",
        "\n",
        "checkpoint = ModelCheckpoint(file_path, monitor='val_acc', verbose=1, save_best_only=True, mode='max')\n",
        "early = EarlyStopping(monitor=\"val_acc\", mode=\"max\", patience=5, verbose=1)\n",
        "redonplat = ReduceLROnPlateau(monitor=\"val_acc\", mode=\"max\", patience=3, verbose=2)\n",
        "callbacks_list = [checkpoint, early, redonplat]  # early\n",
        "\n",
        "\n",
        "model_tcn.fit(X, Y, epochs=50,  batch_size = 400, verbose=2, callbacks=callbacks_list, validation_split=0.1)"
      ],
      "execution_count": 36,
      "outputs": [
        {
          "output_type": "stream",
          "text": [
            "Model: \"model_6\"\n",
            "_________________________________________________________________\n",
            "Layer (type)                 Output Shape              Param #   \n",
            "=================================================================\n",
            "input_12 (InputLayer)        (None, 187, 1)            0         \n",
            "_________________________________________________________________\n",
            "dilated_conv (Conv1D)        (None, 187, 1)            3         \n",
            "=================================================================\n",
            "Total params: 3\n",
            "Trainable params: 3\n",
            "Non-trainable params: 0\n",
            "_________________________________________________________________\n"
          ],
          "name": "stdout"
        },
        {
          "output_type": "error",
          "ename": "ValueError",
          "evalue": "ignored",
          "traceback": [
            "\u001b[0;31m---------------------------------------------------------------------------\u001b[0m",
            "\u001b[0;31mValueError\u001b[0m                                Traceback (most recent call last)",
            "\u001b[0;32m<ipython-input-36-56dbcf4089bb>\u001b[0m in \u001b[0;36m<module>\u001b[0;34m()\u001b[0m\n\u001b[1;32m      9\u001b[0m \u001b[0;34m\u001b[0m\u001b[0m\n\u001b[1;32m     10\u001b[0m \u001b[0;34m\u001b[0m\u001b[0m\n\u001b[0;32m---> 11\u001b[0;31m \u001b[0mmodel_tcn\u001b[0m\u001b[0;34m.\u001b[0m\u001b[0mfit\u001b[0m\u001b[0;34m(\u001b[0m\u001b[0mX\u001b[0m\u001b[0;34m,\u001b[0m \u001b[0mY\u001b[0m\u001b[0;34m,\u001b[0m \u001b[0mepochs\u001b[0m\u001b[0;34m=\u001b[0m\u001b[0;36m50\u001b[0m\u001b[0;34m,\u001b[0m  \u001b[0mbatch_size\u001b[0m \u001b[0;34m=\u001b[0m \u001b[0;36m400\u001b[0m\u001b[0;34m,\u001b[0m \u001b[0mverbose\u001b[0m\u001b[0;34m=\u001b[0m\u001b[0;36m2\u001b[0m\u001b[0;34m,\u001b[0m \u001b[0mcallbacks\u001b[0m\u001b[0;34m=\u001b[0m\u001b[0mcallbacks_list\u001b[0m\u001b[0;34m,\u001b[0m \u001b[0mvalidation_split\u001b[0m\u001b[0;34m=\u001b[0m\u001b[0;36m0.1\u001b[0m\u001b[0;34m)\u001b[0m\u001b[0;34m\u001b[0m\u001b[0;34m\u001b[0m\u001b[0m\n\u001b[0m",
            "\u001b[0;32m/usr/local/lib/python3.6/dist-packages/keras/engine/training.py\u001b[0m in \u001b[0;36mfit\u001b[0;34m(self, x, y, batch_size, epochs, verbose, callbacks, validation_split, validation_data, shuffle, class_weight, sample_weight, initial_epoch, steps_per_epoch, validation_steps, validation_freq, max_queue_size, workers, use_multiprocessing, **kwargs)\u001b[0m\n\u001b[1;32m   1087\u001b[0m             \u001b[0msample_weight\u001b[0m\u001b[0;34m=\u001b[0m\u001b[0msample_weight\u001b[0m\u001b[0;34m,\u001b[0m\u001b[0;34m\u001b[0m\u001b[0;34m\u001b[0m\u001b[0m\n\u001b[1;32m   1088\u001b[0m             \u001b[0mclass_weight\u001b[0m\u001b[0;34m=\u001b[0m\u001b[0mclass_weight\u001b[0m\u001b[0;34m,\u001b[0m\u001b[0;34m\u001b[0m\u001b[0;34m\u001b[0m\u001b[0m\n\u001b[0;32m-> 1089\u001b[0;31m             batch_size=batch_size)\n\u001b[0m\u001b[1;32m   1090\u001b[0m \u001b[0;34m\u001b[0m\u001b[0m\n\u001b[1;32m   1091\u001b[0m         \u001b[0;31m# Prepare validation data.\u001b[0m\u001b[0;34m\u001b[0m\u001b[0;34m\u001b[0m\u001b[0;34m\u001b[0m\u001b[0m\n",
            "\u001b[0;32m/usr/local/lib/python3.6/dist-packages/keras/engine/training.py\u001b[0m in \u001b[0;36m_standardize_user_data\u001b[0;34m(self, x, y, sample_weight, class_weight, check_array_lengths, batch_size)\u001b[0m\n\u001b[1;32m    793\u001b[0m                 \u001b[0mfeed_output_shapes\u001b[0m\u001b[0;34m,\u001b[0m\u001b[0;34m\u001b[0m\u001b[0;34m\u001b[0m\u001b[0m\n\u001b[1;32m    794\u001b[0m                 \u001b[0mcheck_batch_axis\u001b[0m\u001b[0;34m=\u001b[0m\u001b[0;32mFalse\u001b[0m\u001b[0;34m,\u001b[0m  \u001b[0;31m# Don't enforce the batch size.\u001b[0m\u001b[0;34m\u001b[0m\u001b[0;34m\u001b[0m\u001b[0m\n\u001b[0;32m--> 795\u001b[0;31m                 exception_prefix='target')\n\u001b[0m\u001b[1;32m    796\u001b[0m \u001b[0;34m\u001b[0m\u001b[0m\n\u001b[1;32m    797\u001b[0m             \u001b[0;31m# Generate sample-wise weight values given the `sample_weight` and\u001b[0m\u001b[0;34m\u001b[0m\u001b[0;34m\u001b[0m\u001b[0;34m\u001b[0m\u001b[0m\n",
            "\u001b[0;32m/usr/local/lib/python3.6/dist-packages/keras/engine/training_utils.py\u001b[0m in \u001b[0;36mstandardize_input_data\u001b[0;34m(data, names, shapes, check_batch_axis, exception_prefix)\u001b[0m\n\u001b[1;32m    129\u001b[0m                         \u001b[0;34m': expected '\u001b[0m \u001b[0;34m+\u001b[0m \u001b[0mnames\u001b[0m\u001b[0;34m[\u001b[0m\u001b[0mi\u001b[0m\u001b[0;34m]\u001b[0m \u001b[0;34m+\u001b[0m \u001b[0;34m' to have '\u001b[0m \u001b[0;34m+\u001b[0m\u001b[0;34m\u001b[0m\u001b[0;34m\u001b[0m\u001b[0m\n\u001b[1;32m    130\u001b[0m                         \u001b[0mstr\u001b[0m\u001b[0;34m(\u001b[0m\u001b[0mlen\u001b[0m\u001b[0;34m(\u001b[0m\u001b[0mshape\u001b[0m\u001b[0;34m)\u001b[0m\u001b[0;34m)\u001b[0m \u001b[0;34m+\u001b[0m \u001b[0;34m' dimensions, but got array '\u001b[0m\u001b[0;34m\u001b[0m\u001b[0;34m\u001b[0m\u001b[0m\n\u001b[0;32m--> 131\u001b[0;31m                         'with shape ' + str(data_shape))\n\u001b[0m\u001b[1;32m    132\u001b[0m                 \u001b[0;32mif\u001b[0m \u001b[0;32mnot\u001b[0m \u001b[0mcheck_batch_axis\u001b[0m\u001b[0;34m:\u001b[0m\u001b[0;34m\u001b[0m\u001b[0;34m\u001b[0m\u001b[0m\n\u001b[1;32m    133\u001b[0m                     \u001b[0mdata_shape\u001b[0m \u001b[0;34m=\u001b[0m \u001b[0mdata_shape\u001b[0m\u001b[0;34m[\u001b[0m\u001b[0;36m1\u001b[0m\u001b[0;34m:\u001b[0m\u001b[0;34m]\u001b[0m\u001b[0;34m\u001b[0m\u001b[0;34m\u001b[0m\u001b[0m\n",
            "\u001b[0;31mValueError\u001b[0m: Error when checking target: expected dilated_conv to have 3 dimensions, but got array with shape (11641, 1)"
          ]
        }
      ]
    }
  ]
}